{
 "cells": [
  {
   "cell_type": "markdown",
   "id": "3a1a494a-64b6-430a-80d4-4108a1a166e0",
   "metadata": {},
   "source": [
    "# 项目：个人消费管理程序"
   ]
  },
  {
   "cell_type": "markdown",
   "id": "10b05105-aa20-4a4e-a4a1-5c9372c5585d",
   "metadata": {},
   "source": [
    "项目说明：\n",
    "1. 需要整理出消费的二维表格文件，其格式如下：\n",
    "\n",
    "|日期|消费场所|付款方式|付款金额|\n",
    "|--- |  ---  |  ---  |  ---  |\n",
    "| /  |   /   |   /   |   /   |\n",
    "| /  |   /   |   /   |   /   |\n",
    "\n",
    "2. 获取表格文件内容，实现选定日期的消费场所统计、付款方式统计与单日付款与多日付款统计，并绘制表格\n",
    "3. 通过 *2* 中数据拟定回归方程进行预测\n",
    "4. 输入各个来源的金钱总额，通过 *2 ,3* 的数据进行可视化与显示"
   ]
  },
  {
   "cell_type": "code",
   "execution_count": null,
   "id": "357cb912-f165-4708-86f0-e7690f0fec41",
   "metadata": {},
   "outputs": [],
   "source": [
    "\"\"\"\n",
    "author : 胡澄宇\n",
    "data   : 2024-08-26\n",
    "\"\"\""
   ]
  },
  {
   "cell_type": "markdown",
   "id": "1a98e57d-305f-4fff-9ea5-7c9bfdae3992",
   "metadata": {},
   "source": [
    "## 导入依赖库"
   ]
  },
  {
   "cell_type": "code",
   "execution_count": 2,
   "id": "a4c36b0d-8591-4cfd-92b5-236f27de768a",
   "metadata": {},
   "outputs": [],
   "source": [
    "# 数据导入与计算\n",
    "import pandas as pd\n",
    "\n",
    "#数据可视化\n",
    "\n",
    "# 程序配置\n",
    "\n",
    "# 其他\n"
   ]
  },
  {
   "cell_type": "markdown",
   "id": "b7b956a4-ff44-4dad-8b69-f7005ddc4897",
   "metadata": {},
   "source": [
    "## 载入数据集"
   ]
  },
  {
   "cell_type": "code",
   "execution_count": 6,
   "id": "3c77fcc4-795e-49f8-8fad-2bdc7c105e04",
   "metadata": {},
   "outputs": [
    {
     "name": "stderr",
     "output_type": "stream",
     "text": [
      "2024-08-26 22:01:00,812 - log - INFO - Comsume.xlsx exists Loading...\n",
      "2024-08-26 22:01:00,857 - log - INFO - Comsume.xlsx Loading completed.\n"
     ]
    },
    {
     "name": "stdout",
     "output_type": "stream",
     "text": [
      "          日期 消费场所 付款方式   付款金额\n",
      "0 2024-08-26  场所1   微信  10.00\n",
      "1 2024-08-26  场所2  支付宝  20.23\n",
      "2 2024-08-26  场所3  银行卡   8.22\n"
     ]
    }
   ],
   "source": [
    "# %load dataloading.py\n",
    "\"\"\"\n",
    "author : 胡澄宇\n",
    "data   : 2024-08-26\n",
    "\"\"\"\n",
    "\n",
    "import os\n",
    "from log import downloadInfo\n",
    "from pathspecification import pathSpecification \n",
    "import pandas as pd\n",
    "\n",
    "\n",
    "def datasetLoading(path):\n",
    "    # 格式化路径\n",
    "    path = pathSpecification(path)\n",
    "    # 判断文件是否存在并获取文件路径\n",
    "    if os.path.exists(path):\n",
    "        downloadInfo(path,para=1)\n",
    "        return True\n",
    "    else:\n",
    "        downloadInfo(path,para=0)\n",
    "        return Flase\n",
    "\n",
    "if __name__ == \"__main__\":\n",
    "    path = 'D:\\\\school\\\\Daily\\\\Comsume\\\\Comsume.xlsx'\n",
    "    if datasetLoading(path):\n",
    "        dataframe = pd.read_excel(path)\n",
    "        downloadInfo(path,para=-1)\n",
    "        print(dataframe)\n",
    "    else: # TODO：当转化为Web应用防止地址错误，提供在死循环下的重复输入。正确后跳过 \n",
    "        pass"
   ]
  },
  {
   "cell_type": "code",
   "execution_count": null,
   "id": "ece65eca-945e-4c3a-acf9-bd49c66b96e2",
   "metadata": {},
   "outputs": [],
   "source": []
  },
  {
   "cell_type": "code",
   "execution_count": null,
   "id": "d8ab2dae-5eea-47ea-ad64-ad05adac7d6b",
   "metadata": {},
   "outputs": [],
   "source": []
  }
 ],
 "metadata": {
  "kernelspec": {
   "display_name": "Python 3 (ipykernel)",
   "language": "python",
   "name": "python3"
  },
  "language_info": {
   "codemirror_mode": {
    "name": "ipython",
    "version": 3
   },
   "file_extension": ".py",
   "mimetype": "text/x-python",
   "name": "python",
   "nbconvert_exporter": "python",
   "pygments_lexer": "ipython3",
   "version": "3.12.5"
  }
 },
 "nbformat": 4,
 "nbformat_minor": 5
}
